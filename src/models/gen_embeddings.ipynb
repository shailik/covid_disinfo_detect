{
 "cells": [
  {
   "cell_type": "markdown",
   "metadata": {},
   "source": [
    "# _Generate Embedding Script Development_\n",
    "\n",
    "This notebook is devoted towards developing a Python script that will generate and then store embeddings for each day of Tweets within our data set. "
   ]
  },
  {
   "cell_type": "code",
   "execution_count": 2,
   "metadata": {},
   "outputs": [],
   "source": [
    "import pandas as pd\n",
    "from tqdm.auto import tqdm\n",
    "from pathlib import Path\n",
    "from nltk.tokenize import TweetTokenizer\n",
    "from emoji import demojize\n",
    "import re\n",
    "tqdm.pandas()"
   ]
  },
  {
   "cell_type": "code",
   "execution_count": 3,
   "metadata": {},
   "outputs": [],
   "source": [
    "def path_to_data():\n",
    "    return Path.cwd().parent.parent / 'data' / 'dailies'"
   ]
  },
  {
   "cell_type": "code",
   "execution_count": 4,
   "metadata": {},
   "outputs": [],
   "source": [
    "data_path = path_to_data()"
   ]
  },
  {
   "cell_type": "code",
   "execution_count": 5,
   "metadata": {},
   "outputs": [],
   "source": [
    "filename = '2020-06-24_tweets.parquet'\n",
    "\n",
    "\n",
    "def normalize_token(token):\n",
    "    lwrcase_tok = token.lower()\n",
    "    if token.startswith('@'):\n",
    "        return '@USER'\n",
    "    elif lwrcase_tok.startswith('http') or lwrcase_tok.startswith('www'):\n",
    "        return 'HTTPURL'\n",
    "    elif len(token) == 1:\n",
    "        return demojize(token)\n",
    "    else:\n",
    "        if token == \"’\":\n",
    "            return \"'\"\n",
    "        elif token == \"…\":\n",
    "            return \"...\"\n",
    "        else:\n",
    "            return token\n",
    "\n",
    "\n",
    "def normalize_tweet(tweet):\n",
    "    tokenizer = TweetTokenizer()\n",
    "    tokens = tokenizer.tokenize(tweet.replace(\"’\", \"'\").replace(\"…\", \"...\"))\n",
    "    normTweet = \" \".join([normalize_token(token) for token in tokens])\n",
    "\n",
    "    normTweet = (\n",
    "        normTweet.replace(\"cannot \", \"can not \")\n",
    "        .replace(\"n't \", \" n't \")\n",
    "        .replace(\"n 't \", \" n't \")\n",
    "        .replace(\"ca n't\", \"can't\")\n",
    "        .replace(\"ai n't\", \"ain't\")\n",
    "    )\n",
    "    normTweet = (\n",
    "        normTweet.replace(\"'m \", \" 'm \")\n",
    "        .replace(\"'re \", \" 're \")\n",
    "        .replace(\"'s \", \" 's \")\n",
    "        .replace(\"'ll \", \" 'll \")\n",
    "        .replace(\"'d \", \" 'd \")\n",
    "        .replace(\"'ve \", \" 've \")\n",
    "    )\n",
    "    normTweet = (\n",
    "        normTweet.replace(\" p . m .\", \"  p.m.\")\n",
    "        .replace(\" p . m \", \" p.m \")\n",
    "        .replace(\" a . m .\", \" a.m.\")\n",
    "        .replace(\" a . m \", \" a.m \")\n",
    "    )\n",
    "\n",
    "    normTweet = re.sub(\n",
    "        r\",([0-9]{2,4}) , ([0-9]{2,4})\", r\",\\1,\\2\", normTweet\n",
    "    )\n",
    "    normTweet = re.sub(\n",
    "        r\"([0-9]{1,3}) / ([0-9]{2,4})\", r\"\\1/\\2\", normTweet\n",
    "    )\n",
    "    normTweet = re.sub(\n",
    "        r\"([0-9]{1,3})- ([0-9]{2,4})\", r\"\\1-\\2\", normTweet\n",
    "    )\n",
    "\n",
    "    return \" \".join(normTweet.split())\n",
    "\n",
    "\n",
    "def clean_data(df):\n",
    "    '''\n",
    "    Given input dataframe, creates subset of only English \n",
    "    tweets, and applies text normalization according to\n",
    "    normalize_tweet function above.\n",
    "    '''\n",
    "    # subset of English-only tweets\n",
    "    df_english = df[df['lang'] == 'en'].reset_index(drop=True)\n",
    "    \n",
    "    # text normalization\n",
    "    df_english['normalized_tweet'] = df_english['full_text'].apply(\n",
    "        lambda tweet: normalize_tweet(tweet)\n",
    "    )\n",
    "    return df_english\n",
    "    \n",
    "\n",
    "def load_parquet_data(data_path, filename):\n",
    "    '''\n",
    "    Loads in file according to data_path and filename,\n",
    "    applies necessary edits to return only English\n",
    "    Tweets, and returns pandas dataframe\n",
    "    '''\n",
    "    # get folder name according to filename\n",
    "    folder = filename.split('_')[0]\n",
    "    \n",
    "    # load in parquet file\n",
    "    df = pd.read_parquet(\n",
    "        f'{data_path}/{folder}/{filename}',\n",
    "    )\n",
    "    \n",
    "    # apply necessary edits\n",
    "    df = clean_data(df)\n",
    "    \n",
    "    return df"
   ]
  },
  {
   "cell_type": "code",
   "execution_count": 6,
   "metadata": {},
   "outputs": [
    {
     "name": "stdout",
     "output_type": "stream",
     "text": [
      "CPU times: user 1min 28s, sys: 2.51 s, total: 1min 31s\n",
      "Wall time: 1min 30s\n"
     ]
    }
   ],
   "source": [
    "%%time\n",
    "df = load_parquet_data(data_path, filename)"
   ]
  },
  {
   "cell_type": "code",
   "execution_count": 7,
   "metadata": {},
   "outputs": [
    {
     "name": "stdout",
     "output_type": "stream",
     "text": [
      "<class 'pandas.core.frame.DataFrame'>\n",
      "RangeIndex: 444182 entries, 0 to 444181\n",
      "Data columns (total 6 columns):\n",
      " #   Column            Non-Null Count   Dtype              \n",
      "---  ------            --------------   -----              \n",
      " 0   created_at        444182 non-null  datetime64[ns, UTC]\n",
      " 1   id_str            444182 non-null  object             \n",
      " 2   user_id_str       444182 non-null  object             \n",
      " 3   lang              444182 non-null  object             \n",
      " 4   full_text         444182 non-null  object             \n",
      " 5   normalized_tweet  444182 non-null  object             \n",
      "dtypes: datetime64[ns, UTC](1), object(5)\n",
      "memory usage: 20.3+ MB\n"
     ]
    }
   ],
   "source": [
    "df.info()"
   ]
  },
  {
   "cell_type": "markdown",
   "metadata": {},
   "source": [
    "## _Generate Embeddings_"
   ]
  },
  {
   "cell_type": "code",
   "execution_count": 8,
   "metadata": {},
   "outputs": [],
   "source": [
    "from sentence_transformers import SentenceTransformer\n",
    "\n",
    "\n",
    "def create_embedding_model(embed_model_name):\n",
    "    '''\n",
    "    Given string of pretrain embedding available in sentence-transformers\n",
    "    library, create a SentenceTransformer object to encode embeddings with\n",
    "    '''\n",
    "    model = SentenceTransformer(embed_model_name)\n",
    "    return model"
   ]
  },
  {
   "cell_type": "code",
   "execution_count": 10,
   "metadata": {},
   "outputs": [],
   "source": [
    "EMBED_MODEL_NAME = 'distilbert-base-nli-stsb-mean-tokens'\n",
    "\n",
    "# create Sentence Transformer model from distilbert\n",
    "model = create_embedding_model(EMBED_MODEL_NAME)"
   ]
  },
  {
   "cell_type": "code",
   "execution_count": 13,
   "metadata": {},
   "outputs": [],
   "source": [
    "def generate_embeddings(model, tweets):\n",
    "    '''\n",
    "    Given a SentenceTransformer model object, and a tweets object,\n",
    "    containing a pandas Series of tweets, use embedding model to\n",
    "    encode tweets with model object.\n",
    "    '''\n",
    "    tweet_embeddings = model.encode(tweets, show_progress_bar=True)\n",
    "    return tweet_embeddings"
   ]
  },
  {
   "cell_type": "code",
   "execution_count": 14,
   "metadata": {},
   "outputs": [],
   "source": [
    "# for the purposes of speed & experimentation, we're only going to use the first 25K tweets\n",
    "tweets = df['normalized_tweet']"
   ]
  },
  {
   "cell_type": "code",
   "execution_count": 15,
   "metadata": {},
   "outputs": [
    {
     "data": {
      "application/vnd.jupyter.widget-view+json": {
       "model_id": "b4a64abce0e94c6fa22acfb5c38ec891",
       "version_major": 2,
       "version_minor": 0
      },
      "text/plain": [
       "HBox(children=(FloatProgress(value=0.0, description='Batches', max=55523.0, style=ProgressStyle(description_wi…"
      ]
     },
     "metadata": {},
     "output_type": "display_data"
    },
    {
     "name": "stdout",
     "output_type": "stream",
     "text": [
      "\n",
      "CPU times: user 22h 18min 25s, sys: 4min 37s, total: 22h 23min 3s\n",
      "Wall time: 3h 14min 40s\n"
     ]
    }
   ],
   "source": [
    "%%time\n",
    "tweet_embeddings = generate_embeddings(model, tweets)"
   ]
  },
  {
   "cell_type": "markdown",
   "metadata": {},
   "source": [
    "## _Generate Means to Store Embeddings w/ Associated Tweet IDs_"
   ]
  },
  {
   "cell_type": "code",
   "execution_count": 17,
   "metadata": {},
   "outputs": [],
   "source": [
    "#!pip install \"dask[complete]\""
   ]
  },
  {
   "cell_type": "code",
   "execution_count": 18,
   "metadata": {},
   "outputs": [],
   "source": [
    "import dask.array as da"
   ]
  },
  {
   "cell_type": "code",
   "execution_count": 19,
   "metadata": {},
   "outputs": [
    {
     "data": {
      "text/html": [
       "<table>\n",
       "<tr>\n",
       "<td>\n",
       "<table>\n",
       "  <thead>\n",
       "    <tr><td> </td><th> Array </th><th> Chunk </th></tr>\n",
       "  </thead>\n",
       "  <tbody>\n",
       "    <tr><th> Bytes </th><td> 1.36 GB </td> <td> 71.82 MB </td></tr>\n",
       "    <tr><th> Shape </th><td> (444182, 768) </td> <td> (23378, 768) </td></tr>\n",
       "    <tr><th> Count </th><td> 20 Tasks </td><td> 19 Chunks </td></tr>\n",
       "    <tr><th> Type </th><td> float32 </td><td> numpy.ndarray </td></tr>\n",
       "  </tbody>\n",
       "</table>\n",
       "</td>\n",
       "<td>\n",
       "<svg width=\"75\" height=\"170\" style=\"stroke:rgb(0,0,0);stroke-width:1\" >\n",
       "\n",
       "  <!-- Horizontal lines -->\n",
       "  <line x1=\"0\" y1=\"0\" x2=\"25\" y2=\"0\" style=\"stroke-width:2\" />\n",
       "  <line x1=\"0\" y1=\"6\" x2=\"25\" y2=\"6\" />\n",
       "  <line x1=\"0\" y1=\"12\" x2=\"25\" y2=\"12\" />\n",
       "  <line x1=\"0\" y1=\"18\" x2=\"25\" y2=\"18\" />\n",
       "  <line x1=\"0\" y1=\"25\" x2=\"25\" y2=\"25\" />\n",
       "  <line x1=\"0\" y1=\"31\" x2=\"25\" y2=\"31\" />\n",
       "  <line x1=\"0\" y1=\"37\" x2=\"25\" y2=\"37\" />\n",
       "  <line x1=\"0\" y1=\"44\" x2=\"25\" y2=\"44\" />\n",
       "  <line x1=\"0\" y1=\"50\" x2=\"25\" y2=\"50\" />\n",
       "  <line x1=\"0\" y1=\"56\" x2=\"25\" y2=\"56\" />\n",
       "  <line x1=\"0\" y1=\"63\" x2=\"25\" y2=\"63\" />\n",
       "  <line x1=\"0\" y1=\"69\" x2=\"25\" y2=\"69\" />\n",
       "  <line x1=\"0\" y1=\"75\" x2=\"25\" y2=\"75\" />\n",
       "  <line x1=\"0\" y1=\"82\" x2=\"25\" y2=\"82\" />\n",
       "  <line x1=\"0\" y1=\"88\" x2=\"25\" y2=\"88\" />\n",
       "  <line x1=\"0\" y1=\"94\" x2=\"25\" y2=\"94\" />\n",
       "  <line x1=\"0\" y1=\"101\" x2=\"25\" y2=\"101\" />\n",
       "  <line x1=\"0\" y1=\"107\" x2=\"25\" y2=\"107\" />\n",
       "  <line x1=\"0\" y1=\"113\" x2=\"25\" y2=\"113\" />\n",
       "  <line x1=\"0\" y1=\"120\" x2=\"25\" y2=\"120\" style=\"stroke-width:2\" />\n",
       "\n",
       "  <!-- Vertical lines -->\n",
       "  <line x1=\"0\" y1=\"0\" x2=\"0\" y2=\"120\" style=\"stroke-width:2\" />\n",
       "  <line x1=\"25\" y1=\"0\" x2=\"25\" y2=\"120\" style=\"stroke-width:2\" />\n",
       "\n",
       "  <!-- Colored Rectangle -->\n",
       "  <polygon points=\"0.000000,0.000000 25.412617,0.000000 25.412617,120.000000 0.000000,120.000000\" style=\"fill:#ECB172A0;stroke-width:0\"/>\n",
       "\n",
       "  <!-- Text -->\n",
       "  <text x=\"12.706308\" y=\"140.000000\" font-size=\"1.0rem\" font-weight=\"100\" text-anchor=\"middle\" >768</text>\n",
       "  <text x=\"45.412617\" y=\"60.000000\" font-size=\"1.0rem\" font-weight=\"100\" text-anchor=\"middle\" transform=\"rotate(-90,45.412617,60.000000)\">444182</text>\n",
       "</svg>\n",
       "</td>\n",
       "</tr>\n",
       "</table>"
      ],
      "text/plain": [
       "dask.array<array, shape=(444182, 768), dtype=float32, chunksize=(23378, 768), chunktype=numpy.ndarray>"
      ]
     },
     "execution_count": 19,
     "metadata": {},
     "output_type": "execute_result"
    }
   ],
   "source": [
    "da.from_array(tweet_embeddings)"
   ]
  },
  {
   "cell_type": "code",
   "execution_count": 20,
   "metadata": {},
   "outputs": [],
   "source": [
    "# gather tweet IDs that are associated with first 1k tweets\n",
    "tweet_ids = df['id_str']\n",
    "\n",
    "def generate_embedding_df(tweet_ids, tweet_embeddings):\n",
    "    '''\n",
    "    Given a series of tweet IDs and a list of tweet_embeddings\n",
    "    (where each observation in the list is an array containing the\n",
    "    embeddings), combines the two to produce a pandas DataFrame\n",
    "    '''\n",
    "    df = pd.DataFrame(tweet_embeddings)\n",
    "    \n",
    "    # apply more appropriate column names\n",
    "    old_cols = df.columns.values\n",
    "    new_cols = ['embed_' + str(x + 1) for x in old_cols]\n",
    "    df.columns = new_cols\n",
    "    \n",
    "    # insert tweet IDs series as first column\n",
    "    df.insert(loc=0, column='tweet_id', value=tweet_ids)\n",
    "    \n",
    "    return df"
   ]
  },
  {
   "cell_type": "code",
   "execution_count": 21,
   "metadata": {},
   "outputs": [
    {
     "name": "stdout",
     "output_type": "stream",
     "text": [
      "CPU times: user 3min 33s, sys: 12.7 s, total: 3min 46s\n",
      "Wall time: 3min 46s\n"
     ]
    }
   ],
   "source": [
    "%%time\n",
    "embeddings_df = generate_embedding_df(tweet_ids, tweet_embeddings)"
   ]
  },
  {
   "cell_type": "code",
   "execution_count": 22,
   "metadata": {},
   "outputs": [
    {
     "name": "stdout",
     "output_type": "stream",
     "text": [
      "<class 'pandas.core.frame.DataFrame'>\n",
      "RangeIndex: 444182 entries, 0 to 444181\n",
      "Columns: 769 entries, tweet_id to embed_768\n",
      "dtypes: float64(768), object(1)\n",
      "memory usage: 2.5+ GB\n"
     ]
    }
   ],
   "source": [
    "embeddings_df.info()"
   ]
  },
  {
   "cell_type": "code",
   "execution_count": 23,
   "metadata": {},
   "outputs": [
    {
     "name": "stdout",
     "output_type": "stream",
     "text": [
      "CPU times: user 30.8 s, sys: 4.53 s, total: 35.4 s\n",
      "Wall time: 32.9 s\n"
     ]
    }
   ],
   "source": [
    "%%time\n",
    "folder_date = filename.split('_')[0]\n",
    "\n",
    "data_path = path_to_data()\n",
    "\n",
    "embeddings_df.to_parquet(\n",
    "    f'{data_path}/{folder_date}/{folder_date}_embeddings.parquet'\n",
    ")"
   ]
  },
  {
   "cell_type": "markdown",
   "metadata": {},
   "source": [
    "## _Generate UMAP version of `embeddings_df`_"
   ]
  },
  {
   "cell_type": "code",
   "execution_count": 24,
   "metadata": {},
   "outputs": [],
   "source": [
    "#import cudf\n",
    "#import cuml"
   ]
  },
  {
   "cell_type": "code",
   "execution_count": 25,
   "metadata": {},
   "outputs": [],
   "source": [
    "#!pip install umap-learn\n",
    "#!pip install umap-learn[plot]\n",
    "#!pip install bokeh --upgrade"
   ]
  },
  {
   "cell_type": "code",
   "execution_count": 26,
   "metadata": {},
   "outputs": [],
   "source": [
    "import umap\n",
    "\n",
    "def generate_umap_embeddings(embeddings_df):\n",
    "    '''\n",
    "    Given a pandas dataframe of embeddings (with first column\n",
    "    representing a respective tweet ID), apply UMAP to reduce\n",
    "    dimensionality to 2, to create representation of data that\n",
    "    can then be visualized in 2D space.\n",
    "    '''\n",
    "    # gather only embedding values (i.e. drop column with IDs)\n",
    "    embedding_data = embeddings_df.iloc[:, 1:].values\n",
    "    \n",
    "    # init umap object and apply to embedding data\n",
    "    reducer = umap.UMAP(\n",
    "        n_components=2,\n",
    "        n_neighbors=15,\n",
    "        min_dist=0.01,\n",
    "        spread=0.25,\n",
    "        metric='cosine',\n",
    "        random_state=8,\n",
    "        transform_seed=8\n",
    "    )\n",
    "    umap_embeddings = reducer.fit_transform(\n",
    "        embedding_data\n",
    "    )\n",
    "    \n",
    "    # create pandas dataframe from embeddings, with IDs as first column\n",
    "    umap_embeddings_df = pd.DataFrame(\n",
    "        umap_embeddings, columns=('x', 'y')\n",
    "    )\n",
    "    umap_embeddings_df.insert(\n",
    "        loc=0, column='tweet_id', value=embeddings_df['tweet_id']\n",
    "    )\n",
    "    \n",
    "    return umap_embeddings_df"
   ]
  },
  {
   "cell_type": "code",
   "execution_count": null,
   "metadata": {},
   "outputs": [
    {
     "name": "stderr",
     "output_type": "stream",
     "text": [
      "/opt/conda/lib/python3.7/site-packages/umap/umap_.py:1158: RuntimeWarning: divide by zero encountered in power\n",
      "  return 1.0 / (1.0 + a * x ** (2 * b))\n"
     ]
    }
   ],
   "source": [
    "%%time\n",
    "umap_embeddings_df = generate_umap_embeddings(embeddings_df)"
   ]
  },
  {
   "cell_type": "code",
   "execution_count": 24,
   "metadata": {},
   "outputs": [
    {
     "data": {
      "text/html": [
       "<div>\n",
       "<style scoped>\n",
       "    .dataframe tbody tr th:only-of-type {\n",
       "        vertical-align: middle;\n",
       "    }\n",
       "\n",
       "    .dataframe tbody tr th {\n",
       "        vertical-align: top;\n",
       "    }\n",
       "\n",
       "    .dataframe thead th {\n",
       "        text-align: right;\n",
       "    }\n",
       "</style>\n",
       "<table border=\"1\" class=\"dataframe\">\n",
       "  <thead>\n",
       "    <tr style=\"text-align: right;\">\n",
       "      <th></th>\n",
       "      <th>tweet_id</th>\n",
       "      <th>x</th>\n",
       "      <th>y</th>\n",
       "    </tr>\n",
       "  </thead>\n",
       "  <tbody>\n",
       "    <tr>\n",
       "      <th>0</th>\n",
       "      <td>1275579785079472129</td>\n",
       "      <td>4.370631</td>\n",
       "      <td>5.278501</td>\n",
       "    </tr>\n",
       "    <tr>\n",
       "      <th>1</th>\n",
       "      <td>1275579785842814976</td>\n",
       "      <td>4.369429</td>\n",
       "      <td>4.624718</td>\n",
       "    </tr>\n",
       "    <tr>\n",
       "      <th>2</th>\n",
       "      <td>1275579786434232320</td>\n",
       "      <td>4.265803</td>\n",
       "      <td>3.562437</td>\n",
       "    </tr>\n",
       "    <tr>\n",
       "      <th>3</th>\n",
       "      <td>1275579786618793984</td>\n",
       "      <td>2.774232</td>\n",
       "      <td>2.908997</td>\n",
       "    </tr>\n",
       "    <tr>\n",
       "      <th>4</th>\n",
       "      <td>1275579789538033665</td>\n",
       "      <td>4.750591</td>\n",
       "      <td>4.784646</td>\n",
       "    </tr>\n",
       "    <tr>\n",
       "      <th>...</th>\n",
       "      <td>...</td>\n",
       "      <td>...</td>\n",
       "      <td>...</td>\n",
       "    </tr>\n",
       "    <tr>\n",
       "      <th>24995</th>\n",
       "      <td>1275600133254721537</td>\n",
       "      <td>4.180532</td>\n",
       "      <td>5.407028</td>\n",
       "    </tr>\n",
       "    <tr>\n",
       "      <th>24996</th>\n",
       "      <td>1275600133636284416</td>\n",
       "      <td>4.273987</td>\n",
       "      <td>4.912381</td>\n",
       "    </tr>\n",
       "    <tr>\n",
       "      <th>24997</th>\n",
       "      <td>1275600135112753155</td>\n",
       "      <td>4.380994</td>\n",
       "      <td>5.051008</td>\n",
       "    </tr>\n",
       "    <tr>\n",
       "      <th>24998</th>\n",
       "      <td>1275600136366895113</td>\n",
       "      <td>4.371548</td>\n",
       "      <td>4.605233</td>\n",
       "    </tr>\n",
       "    <tr>\n",
       "      <th>24999</th>\n",
       "      <td>1275600136727658496</td>\n",
       "      <td>4.234918</td>\n",
       "      <td>3.731836</td>\n",
       "    </tr>\n",
       "  </tbody>\n",
       "</table>\n",
       "<p>25000 rows × 3 columns</p>\n",
       "</div>"
      ],
      "text/plain": [
       "                  tweet_id         x         y\n",
       "0      1275579785079472129  4.370631  5.278501\n",
       "1      1275579785842814976  4.369429  4.624718\n",
       "2      1275579786434232320  4.265803  3.562437\n",
       "3      1275579786618793984  2.774232  2.908997\n",
       "4      1275579789538033665  4.750591  4.784646\n",
       "...                    ...       ...       ...\n",
       "24995  1275600133254721537  4.180532  5.407028\n",
       "24996  1275600133636284416  4.273987  4.912381\n",
       "24997  1275600135112753155  4.380994  5.051008\n",
       "24998  1275600136366895113  4.371548  4.605233\n",
       "24999  1275600136727658496  4.234918  3.731836\n",
       "\n",
       "[25000 rows x 3 columns]"
      ]
     },
     "execution_count": 24,
     "metadata": {},
     "output_type": "execute_result"
    }
   ],
   "source": [
    "umap_embeddings_df"
   ]
  },
  {
   "cell_type": "code",
   "execution_count": 25,
   "metadata": {},
   "outputs": [],
   "source": [
    "import umap.plot\n",
    "import matplotlib.pyplot as plt\n",
    "%config InlineBackend.figure_format = 'retina'"
   ]
  },
  {
   "cell_type": "code",
   "execution_count": 26,
   "metadata": {},
   "outputs": [
    {
     "data": {
      "image/png": "[encoded data removed]",
      "text/plain": [
       "<Figure size 720x576 with 1 Axes>"
      ]
     },
     "metadata": {
      "image/png": {
       "height": 465,
       "width": 594
      },
      "needs_background": "light"
     },
     "output_type": "display_data"
    }
   ],
   "source": [
    "plt.figure(figsize=(10,8))\n",
    "\n",
    "plt.scatter(\n",
    "    umap_embeddings_df['x'],\n",
    "    umap_embeddings_df['y'],\n",
    "    s=0.5\n",
    ");"
   ]
  },
  {
   "cell_type": "markdown",
   "metadata": {},
   "source": [
    "## _Save Embeddings & UMAP Embeddings_"
   ]
  },
  {
   "cell_type": "code",
   "execution_count": 135,
   "metadata": {},
   "outputs": [],
   "source": [
    "def save_embeddings(filename, embeddings_df, umap_embeddings_df):\n",
    "    '''\n",
    "    Given a filename, and two pandas dataframe, one of all the \n",
    "    embeddings, and of the UMAP embeddings (reduced to 2D), \n",
    "    then save the files in same location where parquet file was \n",
    "    stored.\n",
    "    '''\n",
    "    # get folder name according to filename (i.e. the date)\n",
    "    folder_date = filename.split('_')[0]\n",
    "    # retrieve path to data\n",
    "    data_path = path_to_data()\n",
    "    \n",
    "    # save both embedding dataframes\n",
    "    embeddings_df.to_parquet(\n",
    "        f'{data_path}/{folder_date}/{folder_date}_embeddings.parquet',\n",
    "    )\n",
    "    umap_embeddings_df.to_parquet(\n",
    "        f'{data_path}/{folder_date}/{folder_date}_umap_embeds.parquet'\n",
    "    )"
   ]
  },
  {
   "cell_type": "code",
   "execution_count": 136,
   "metadata": {},
   "outputs": [],
   "source": [
    "save_embeddings(filename, embeddings_df, umap_embeddings_df)"
   ]
  },
  {
   "cell_type": "markdown",
   "metadata": {},
   "source": [
    "## _Sanity check_"
   ]
  },
  {
   "cell_type": "code",
   "execution_count": 137,
   "metadata": {},
   "outputs": [],
   "source": [
    "test1 = pd.read_parquet(\n",
    "    f'{path_to_data()}/2020-06-24/2020-06-24_embeddings.parquet'\n",
    ")"
   ]
  },
  {
   "cell_type": "code",
   "execution_count": 139,
   "metadata": {},
   "outputs": [
    {
     "name": "stdout",
     "output_type": "stream",
     "text": [
      "<class 'pandas.core.frame.DataFrame'>\n",
      "RangeIndex: 1000 entries, 0 to 999\n",
      "Columns: 769 entries, tweet_id to embed_768\n",
      "dtypes: float64(768), object(1)\n",
      "memory usage: 5.9+ MB\n"
     ]
    }
   ],
   "source": [
    "test1.info()"
   ]
  },
  {
   "cell_type": "code",
   "execution_count": 140,
   "metadata": {},
   "outputs": [],
   "source": [
    "test2 = pd.read_parquet(\n",
    "    f'{path_to_data()}/2020-06-24/2020-06-24_umap_embeds.parquet'\n",
    ")"
   ]
  },
  {
   "cell_type": "code",
   "execution_count": 141,
   "metadata": {},
   "outputs": [
    {
     "name": "stdout",
     "output_type": "stream",
     "text": [
      "<class 'pandas.core.frame.DataFrame'>\n",
      "RangeIndex: 1000 entries, 0 to 999\n",
      "Data columns (total 3 columns):\n",
      " #   Column    Non-Null Count  Dtype  \n",
      "---  ------    --------------  -----  \n",
      " 0   tweet_id  1000 non-null   object \n",
      " 1   x         1000 non-null   float32\n",
      " 2   y         1000 non-null   float32\n",
      "dtypes: float32(2), object(1)\n",
      "memory usage: 15.8+ KB\n"
     ]
    }
   ],
   "source": [
    "test2.info()"
   ]
  }
 ],
 "metadata": {
  "kernelspec": {
   "display_name": "Python 3",
   "language": "python",
   "name": "python3"
  },
  "language_info": {
   "codemirror_mode": {
    "name": "ipython",
    "version": 3
   },
   "file_extension": ".py",
   "mimetype": "text/x-python",
   "name": "python",
   "nbconvert_exporter": "python",
   "pygments_lexer": "ipython3",
   "version": "3.7.6"
  }
 },
 "nbformat": 4,
 "nbformat_minor": 4
}
