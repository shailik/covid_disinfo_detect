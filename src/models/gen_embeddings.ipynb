{
 "cells": [
  {
   "cell_type": "markdown",
   "metadata": {},
   "source": [
    "# _Generate Embedding Script Development_\n",
    "\n",
    "This notebook is devoted towards developing a Python script that will generate and then store embeddings for each day of Tweets within our data set. "
   ]
  },
  {
   "cell_type": "code",
   "execution_count": 22,
   "metadata": {},
   "outputs": [
    {
     "name": "stderr",
     "output_type": "stream",
     "text": [
      "/opt/conda/lib/python3.7/site-packages/tqdm/std.py:668: FutureWarning: The Panel class is removed from pandas. Accessing it from the top-level namespace will also be removed in the next version\n",
      "  from pandas import Panel\n"
     ]
    }
   ],
   "source": [
    "import pandas as pd\n",
    "from tqdm.auto import tqdm\n",
    "from pathlib import Path\n",
    "from nltk.tokenize import TweetTokenizer\n",
    "from emoji import demojize\n",
    "import re\n",
    "tqdm.pandas()"
   ]
  },
  {
   "cell_type": "code",
   "execution_count": 9,
   "metadata": {},
   "outputs": [],
   "source": [
    "def path_to_data():\n",
    "    return Path.cwd().parent.parent / 'data' / 'dailies'"
   ]
  },
  {
   "cell_type": "code",
   "execution_count": 10,
   "metadata": {},
   "outputs": [],
   "source": [
    "data_path = path_to_data()"
   ]
  },
  {
   "cell_type": "code",
   "execution_count": 23,
   "metadata": {},
   "outputs": [],
   "source": [
    "filename = '2020-06-24_tweets.parquet'\n",
    "\n",
    "\n",
    "def normalize_token(token):\n",
    "    lwrcase_tok = token.lower()\n",
    "    if token.startswith('@'):\n",
    "        return '@USER'\n",
    "    elif lwrcase_tok.startswith('http') or lwrcase_tok.startswith('www'):\n",
    "        return 'HTTPURL'\n",
    "    elif len(token) == 1:\n",
    "        return demojize(token)\n",
    "    else:\n",
    "        if token == \"’\":\n",
    "            return \"'\"\n",
    "        elif token == \"…\":\n",
    "            return \"...\"\n",
    "        else:\n",
    "            return token\n",
    "\n",
    "\n",
    "def normalize_tweet(tweet):\n",
    "    tokenizer = TweetTokenizer()\n",
    "    tokens = tokenizer.tokenize(tweet.replace(\"’\", \"'\").replace(\"…\", \"...\"))\n",
    "    normTweet = \" \".join([normalize_token(token) for token in tokens])\n",
    "\n",
    "    normTweet = (\n",
    "        normTweet.replace(\"cannot \", \"can not \")\n",
    "        .replace(\"n't \", \" n't \")\n",
    "        .replace(\"n 't \", \" n't \")\n",
    "        .replace(\"ca n't\", \"can't\")\n",
    "        .replace(\"ai n't\", \"ain't\")\n",
    "    )\n",
    "    normTweet = (\n",
    "        normTweet.replace(\"'m \", \" 'm \")\n",
    "        .replace(\"'re \", \" 're \")\n",
    "        .replace(\"'s \", \" 's \")\n",
    "        .replace(\"'ll \", \" 'll \")\n",
    "        .replace(\"'d \", \" 'd \")\n",
    "        .replace(\"'ve \", \" 've \")\n",
    "    )\n",
    "    normTweet = (\n",
    "        normTweet.replace(\" p . m .\", \"  p.m.\")\n",
    "        .replace(\" p . m \", \" p.m \")\n",
    "        .replace(\" a . m .\", \" a.m.\")\n",
    "        .replace(\" a . m \", \" a.m \")\n",
    "    )\n",
    "\n",
    "    normTweet = re.sub(\n",
    "        r\",([0-9]{2,4}) , ([0-9]{2,4})\", r\",\\1,\\2\", normTweet\n",
    "    )\n",
    "    normTweet = re.sub(\n",
    "        r\"([0-9]{1,3}) / ([0-9]{2,4})\", r\"\\1/\\2\", normTweet\n",
    "    )\n",
    "    normTweet = re.sub(\n",
    "        r\"([0-9]{1,3})- ([0-9]{2,4})\", r\"\\1-\\2\", normTweet\n",
    "    )\n",
    "\n",
    "    return \" \".join(normTweet.split())\n",
    "\n",
    "\n",
    "def clean_data(df):\n",
    "    '''\n",
    "    Given input dataframe, creates subset of only English \n",
    "    tweets, and applies text normalization according to\n",
    "    normalize_tweet function above.\n",
    "    '''\n",
    "    # subset of English-only tweets\n",
    "    df_english = df[df['lang'] == 'en'].reset_index(drop=True)\n",
    "    \n",
    "    # text normalization\n",
    "    df_english['normalized_tweet'] = df_english['full_text'].apply(\n",
    "        lambda tweet: normalize_tweet(tweet)\n",
    "    )\n",
    "    return df_english\n",
    "    \n",
    "\n",
    "def load_parquet_data(data_path, filename):\n",
    "    '''\n",
    "    Loads in file according to data_path and filename,\n",
    "    applies necessary edits to return only English\n",
    "    Tweets, and returns pandas dataframe\n",
    "    '''\n",
    "    # get folder name according to filename\n",
    "    folder = filename.split('_')[0]\n",
    "    \n",
    "    # load in parquet file\n",
    "    df = pd.read_parquet(\n",
    "        f'{data_path}/{folder}/{filename}',\n",
    "    )\n",
    "    \n",
    "    # apply necessary edits\n",
    "    df = clean_data(df)\n",
    "    \n",
    "    return df"
   ]
  },
  {
   "cell_type": "code",
   "execution_count": 24,
   "metadata": {},
   "outputs": [],
   "source": [
    "df = load_parquet_data(data_path, filename)"
   ]
  },
  {
   "cell_type": "code",
   "execution_count": 25,
   "metadata": {},
   "outputs": [
    {
     "name": "stdout",
     "output_type": "stream",
     "text": [
      "<class 'pandas.core.frame.DataFrame'>\n",
      "RangeIndex: 444182 entries, 0 to 444181\n",
      "Data columns (total 6 columns):\n",
      " #   Column            Non-Null Count   Dtype              \n",
      "---  ------            --------------   -----              \n",
      " 0   created_at        444182 non-null  datetime64[ns, UTC]\n",
      " 1   id_str            444182 non-null  object             \n",
      " 2   user_id_str       444182 non-null  object             \n",
      " 3   lang              444182 non-null  object             \n",
      " 4   full_text         444182 non-null  object             \n",
      " 5   normalized_tweet  444182 non-null  object             \n",
      "dtypes: datetime64[ns, UTC](1), object(5)\n",
      "memory usage: 20.3+ MB\n"
     ]
    }
   ],
   "source": [
    "df.info()"
   ]
  },
  {
   "cell_type": "markdown",
   "metadata": {},
   "source": [
    "## _Generate Embeddings_"
   ]
  },
  {
   "cell_type": "code",
   "execution_count": 29,
   "metadata": {},
   "outputs": [],
   "source": [
    "from sentence_transformers import SentenceTransformer\n",
    "\n",
    "\n",
    "def create_embedding_model(embed_model_name):\n",
    "    '''\n",
    "    Given string of pretrain embedding available in sentence-transformers\n",
    "    library, create a SentenceTransformer object to encode embeddings with\n",
    "    '''\n",
    "    model = SentenceTransformer(embed_model_name)\n",
    "    return model"
   ]
  },
  {
   "cell_type": "code",
   "execution_count": 30,
   "metadata": {},
   "outputs": [],
   "source": [
    "EMBED_MODEL_NAME = 'distilbert-base-nli-stsb-mean-tokens'\n",
    "\n",
    "# create Sentence Transformer model from distilbert\n",
    "model = create_embedding_model(EMBED_MODEL_NAME)"
   ]
  },
  {
   "cell_type": "code",
   "execution_count": 31,
   "metadata": {},
   "outputs": [],
   "source": [
    "def generate_embeddings(model, tweets):\n",
    "    '''\n",
    "    Given a SentenceTransformer model object, and a tweets object,\n",
    "    containing a pandas Series of tweets, use embedding model to\n",
    "    encode tweets with model object.\n",
    "    '''\n",
    "    tweet_embeddings = model.encode(tweets)\n",
    "    return tweet_embeddings"
   ]
  },
  {
   "cell_type": "code",
   "execution_count": 32,
   "metadata": {},
   "outputs": [],
   "source": [
    "# for the purposes of speed & experimentation, we're only going to use the first 1K tweets\n",
    "tweets = df['normalized_tweet'][:1000]"
   ]
  },
  {
   "cell_type": "code",
   "execution_count": 35,
   "metadata": {},
   "outputs": [
    {
     "name": "stdout",
     "output_type": "stream",
     "text": [
      "CPU times: user 2min 39s, sys: 758 ms, total: 2min 40s\n",
      "Wall time: 23.4 s\n"
     ]
    }
   ],
   "source": [
    "%%time\n",
    "tweet_embeddings = generate_embeddings(model, tweets)"
   ]
  },
  {
   "cell_type": "markdown",
   "metadata": {},
   "source": [
    "## _Generate Means to Store Embeddings w/ Associated Tweet IDs_"
   ]
  },
  {
   "cell_type": "code",
   "execution_count": 38,
   "metadata": {},
   "outputs": [],
   "source": [
    "# gather tweet IDs that are associated with first 1k tweets\n",
    "tweet_ids = df['id_str'][:1000]\n",
    "\n",
    "def generate_embedding_df(tweet_ids, tweet_embeddings):\n",
    "    '''\n",
    "    Given a series of tweet IDs and a list of tweet_embeddings\n",
    "    (where each observation in the list is an array containing the\n",
    "    embeddings), combines the two to produce a pandas DataFrame\n",
    "    '''\n",
    "    df = pd.DataFrame(tweet_embeddings)\n",
    "    \n",
    "    # apply more appropriate column names\n",
    "    old_cols = df.columns.values\n",
    "    new_cols = ['embed_' + str(x + 1) for x in old_cols]\n",
    "    df.columns = new_cols\n",
    "    \n",
    "    # insert tweet IDs series as first column\n",
    "    df.insert(loc=0, column='tweet_id', value=tweet_ids)\n",
    "    \n",
    "    return df"
   ]
  },
  {
   "cell_type": "code",
   "execution_count": 39,
   "metadata": {},
   "outputs": [],
   "source": [
    "embeddings_df = generate_embedding_df(tweet_ids, tweet_embeddings)"
   ]
  },
  {
   "cell_type": "markdown",
   "metadata": {},
   "source": [
    "## _Generate UMAP version of `embeddings_df`_"
   ]
  },
  {
   "cell_type": "code",
   "execution_count": 43,
   "metadata": {},
   "outputs": [],
   "source": [
    "#!pip install umap-learn\n",
    "#!pip install umap-learn[plot]\n",
    "#!pip install bokeh --upgrade"
   ]
  },
  {
   "cell_type": "code",
   "execution_count": 125,
   "metadata": {},
   "outputs": [],
   "source": [
    "import umap\n",
    "\n",
    "def generate_umap_embeddings(embeddings_df):\n",
    "    '''\n",
    "    Given a pandas dataframe of embeddings (with first column\n",
    "    representing a respective tweet ID), apply UMAP to reduce\n",
    "    dimensionality to 2, to create representation of data that\n",
    "    can then be visualized in 2D space.\n",
    "    '''\n",
    "    # gather only embedding values (i.e. drop column with IDs)\n",
    "    embedding_data = embeddings_df.iloc[:, 1:].values\n",
    "    \n",
    "    # init umap object and apply to embedding data\n",
    "    reducer = umap.UMAP(\n",
    "        n_components=2,\n",
    "        n_neighbors=15,\n",
    "        min_dist=0.01,\n",
    "        spread=0.25,\n",
    "        metric='cosine',\n",
    "        random_state=8,\n",
    "        transform_seed=8\n",
    "    )\n",
    "    umap_embeddings = reducer.fit_transform(\n",
    "        embedding_data\n",
    "    )\n",
    "    \n",
    "    # create pandas dataframe from embeddings, with IDs as first column\n",
    "    umap_embeddings_df = pd.DataFrame(\n",
    "        umap_embeddings, columns=('x', 'y')\n",
    "    )\n",
    "    umap_embeddings_df.insert(\n",
    "        loc=0, column='tweet_id', value=embeddings_df['tweet_id']\n",
    "    )\n",
    "    \n",
    "    return umap_embeddings_df"
   ]
  },
  {
   "cell_type": "code",
   "execution_count": 126,
   "metadata": {},
   "outputs": [
    {
     "name": "stderr",
     "output_type": "stream",
     "text": [
      "/opt/conda/lib/python3.7/site-packages/umap/umap_.py:1158: RuntimeWarning: divide by zero encountered in power\n",
      "  return 1.0 / (1.0 + a * x ** (2 * b))\n"
     ]
    },
    {
     "name": "stdout",
     "output_type": "stream",
     "text": [
      "CPU times: user 3.7 s, sys: 626 ms, total: 4.32 s\n",
      "Wall time: 3.49 s\n"
     ]
    }
   ],
   "source": [
    "%%time\n",
    "umap_embeddings_df = generate_umap_embeddings(embeddings_df)"
   ]
  },
  {
   "cell_type": "code",
   "execution_count": 127,
   "metadata": {},
   "outputs": [
    {
     "data": {
      "text/html": [
       "<div>\n",
       "<style scoped>\n",
       "    .dataframe tbody tr th:only-of-type {\n",
       "        vertical-align: middle;\n",
       "    }\n",
       "\n",
       "    .dataframe tbody tr th {\n",
       "        vertical-align: top;\n",
       "    }\n",
       "\n",
       "    .dataframe thead th {\n",
       "        text-align: right;\n",
       "    }\n",
       "</style>\n",
       "<table border=\"1\" class=\"dataframe\">\n",
       "  <thead>\n",
       "    <tr style=\"text-align: right;\">\n",
       "      <th></th>\n",
       "      <th>tweet_id</th>\n",
       "      <th>x</th>\n",
       "      <th>y</th>\n",
       "    </tr>\n",
       "  </thead>\n",
       "  <tbody>\n",
       "    <tr>\n",
       "      <th>0</th>\n",
       "      <td>1275579785079472129</td>\n",
       "      <td>1.710142</td>\n",
       "      <td>6.032822</td>\n",
       "    </tr>\n",
       "    <tr>\n",
       "      <th>1</th>\n",
       "      <td>1275579785842814976</td>\n",
       "      <td>2.353439</td>\n",
       "      <td>6.601244</td>\n",
       "    </tr>\n",
       "    <tr>\n",
       "      <th>2</th>\n",
       "      <td>1275579786434232320</td>\n",
       "      <td>2.267130</td>\n",
       "      <td>7.322747</td>\n",
       "    </tr>\n",
       "    <tr>\n",
       "      <th>3</th>\n",
       "      <td>1275579786618793984</td>\n",
       "      <td>2.562402</td>\n",
       "      <td>5.814714</td>\n",
       "    </tr>\n",
       "    <tr>\n",
       "      <th>4</th>\n",
       "      <td>1275579789538033665</td>\n",
       "      <td>2.680140</td>\n",
       "      <td>6.897920</td>\n",
       "    </tr>\n",
       "    <tr>\n",
       "      <th>...</th>\n",
       "      <td>...</td>\n",
       "      <td>...</td>\n",
       "      <td>...</td>\n",
       "    </tr>\n",
       "    <tr>\n",
       "      <th>995</th>\n",
       "      <td>1275580581791727617</td>\n",
       "      <td>2.500973</td>\n",
       "      <td>7.602313</td>\n",
       "    </tr>\n",
       "    <tr>\n",
       "      <th>996</th>\n",
       "      <td>1275580582202732545</td>\n",
       "      <td>2.284534</td>\n",
       "      <td>7.357480</td>\n",
       "    </tr>\n",
       "    <tr>\n",
       "      <th>997</th>\n",
       "      <td>1275580582836256774</td>\n",
       "      <td>1.830458</td>\n",
       "      <td>5.981165</td>\n",
       "    </tr>\n",
       "    <tr>\n",
       "      <th>998</th>\n",
       "      <td>1275580583251447808</td>\n",
       "      <td>2.226686</td>\n",
       "      <td>5.855970</td>\n",
       "    </tr>\n",
       "    <tr>\n",
       "      <th>999</th>\n",
       "      <td>1275580584073416704</td>\n",
       "      <td>1.968491</td>\n",
       "      <td>6.604354</td>\n",
       "    </tr>\n",
       "  </tbody>\n",
       "</table>\n",
       "<p>1000 rows × 3 columns</p>\n",
       "</div>"
      ],
      "text/plain": [
       "                tweet_id         x         y\n",
       "0    1275579785079472129  1.710142  6.032822\n",
       "1    1275579785842814976  2.353439  6.601244\n",
       "2    1275579786434232320  2.267130  7.322747\n",
       "3    1275579786618793984  2.562402  5.814714\n",
       "4    1275579789538033665  2.680140  6.897920\n",
       "..                   ...       ...       ...\n",
       "995  1275580581791727617  2.500973  7.602313\n",
       "996  1275580582202732545  2.284534  7.357480\n",
       "997  1275580582836256774  1.830458  5.981165\n",
       "998  1275580583251447808  2.226686  5.855970\n",
       "999  1275580584073416704  1.968491  6.604354\n",
       "\n",
       "[1000 rows x 3 columns]"
      ]
     },
     "execution_count": 127,
     "metadata": {},
     "output_type": "execute_result"
    }
   ],
   "source": [
    "umap_embeddings_df"
   ]
  },
  {
   "cell_type": "code",
   "execution_count": 128,
   "metadata": {},
   "outputs": [],
   "source": [
    "import umap.plot\n",
    "import matplotlib.pyplot as plt\n",
    "%config InlineBackend.figure_format = 'retina'"
   ]
  },
  {
   "cell_type": "code",
   "execution_count": 130,
   "metadata": {},
   "outputs": [
    {
     "data": {
      "image/png": "[encoded data removed]",
      "text/plain": [
       "<Figure size 720x576 with 1 Axes>"
      ]
     },
     "metadata": {
      "image/png": {
       "height": 465,
       "width": 595
      },
      "needs_background": "light"
     },
     "output_type": "display_data"
    }
   ],
   "source": [
    "plt.figure(figsize=(10,8))\n",
    "\n",
    "plt.scatter(\n",
    "    umap_embeddings_df['x'],\n",
    "    umap_embeddings_df['y'],\n",
    "    s=0.5\n",
    ");"
   ]
  },
  {
   "cell_type": "markdown",
   "metadata": {},
   "source": [
    "## _Save Embeddings & UMAP Embeddings_"
   ]
  },
  {
   "cell_type": "code",
   "execution_count": 135,
   "metadata": {},
   "outputs": [],
   "source": [
    "def save_embeddings(filename, embeddings_df, umap_embeddings_df):\n",
    "    '''\n",
    "    Given a filename, and two pandas dataframe, one of all the \n",
    "    embeddings, and of the UMAP embeddings (reduced to 2D), \n",
    "    then save the files in same location where parquet file was \n",
    "    stored.\n",
    "    '''\n",
    "    # get folder name according to filename (i.e. the date)\n",
    "    folder_date = filename.split('_')[0]\n",
    "    # retrieve path to data\n",
    "    data_path = path_to_data()\n",
    "    \n",
    "    # save both embedding dataframes\n",
    "    embeddings_df.to_parquet(\n",
    "        f'{data_path}/{folder_date}/{folder_date}_embeddings.parquet',\n",
    "    )\n",
    "    umap_embeddings_df.to_parquet(\n",
    "        f'{data_path}/{folder_date}/{folder_date}_umap_embeds.parquet'\n",
    "    )"
   ]
  },
  {
   "cell_type": "code",
   "execution_count": 136,
   "metadata": {},
   "outputs": [],
   "source": [
    "save_embeddings(filename, embeddings_df, umap_embeddings_df)"
   ]
  },
  {
   "cell_type": "markdown",
   "metadata": {},
   "source": [
    "## _Sanity check_"
   ]
  },
  {
   "cell_type": "code",
   "execution_count": 137,
   "metadata": {},
   "outputs": [],
   "source": [
    "test1 = pd.read_parquet(\n",
    "    f'{path_to_data()}/2020-06-24/2020-06-24_embeddings.parquet'\n",
    ")"
   ]
  },
  {
   "cell_type": "code",
   "execution_count": 139,
   "metadata": {},
   "outputs": [
    {
     "name": "stdout",
     "output_type": "stream",
     "text": [
      "<class 'pandas.core.frame.DataFrame'>\n",
      "RangeIndex: 1000 entries, 0 to 999\n",
      "Columns: 769 entries, tweet_id to embed_768\n",
      "dtypes: float64(768), object(1)\n",
      "memory usage: 5.9+ MB\n"
     ]
    }
   ],
   "source": [
    "test1.info()"
   ]
  },
  {
   "cell_type": "code",
   "execution_count": 140,
   "metadata": {},
   "outputs": [],
   "source": [
    "test2 = pd.read_parquet(\n",
    "    f'{path_to_data()}/2020-06-24/2020-06-24_umap_embeds.parquet'\n",
    ")"
   ]
  },
  {
   "cell_type": "code",
   "execution_count": 141,
   "metadata": {},
   "outputs": [
    {
     "name": "stdout",
     "output_type": "stream",
     "text": [
      "<class 'pandas.core.frame.DataFrame'>\n",
      "RangeIndex: 1000 entries, 0 to 999\n",
      "Data columns (total 3 columns):\n",
      " #   Column    Non-Null Count  Dtype  \n",
      "---  ------    --------------  -----  \n",
      " 0   tweet_id  1000 non-null   object \n",
      " 1   x         1000 non-null   float32\n",
      " 2   y         1000 non-null   float32\n",
      "dtypes: float32(2), object(1)\n",
      "memory usage: 15.8+ KB\n"
     ]
    }
   ],
   "source": [
    "test2.info()"
   ]
  }
 ],
 "metadata": {
  "kernelspec": {
   "display_name": "Python 3",
   "language": "python",
   "name": "python3"
  },
  "language_info": {
   "codemirror_mode": {
    "name": "ipython",
    "version": 3
   },
   "file_extension": ".py",
   "mimetype": "text/x-python",
   "name": "python",
   "nbconvert_exporter": "python",
   "pygments_lexer": "ipython3",
   "version": "3.6.10"
  }
 },
 "nbformat": 4,
 "nbformat_minor": 4
}
